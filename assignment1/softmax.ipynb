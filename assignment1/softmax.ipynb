{
 "cells": [
  {
   "cell_type": "markdown",
   "metadata": {},
   "source": [
    "# Softmax exercise\n",
    "\n",
    "*Complete and hand in this completed worksheet (including its outputs and any supporting code outside of the worksheet) with your assignment submission. For more details see the [assignments page](http://vision.stanford.edu/teaching/cs231n/assignments.html) on the course website.*\n",
    "\n",
    "This exercise is analogous to the SVM exercise. You will:\n",
    "\n",
    "- implement a fully-vectorized **loss function** for the Softmax classifier\n",
    "- implement the fully-vectorized expression for its **analytic gradient**\n",
    "- **check your implementation** with numerical gradient\n",
    "- use a validation set to **tune the learning rate and regularization** strength\n",
    "- **optimize** the loss function with **SGD**\n",
    "- **visualize** the final learned weights\n"
   ]
  },
  {
   "cell_type": "code",
   "execution_count": 1,
   "metadata": {
    "collapsed": true
   },
   "outputs": [],
   "source": [
    "import random\n",
    "import numpy as np\n",
    "from cs231n.data_utils import load_CIFAR10\n",
    "import matplotlib.pyplot as plt\n",
    "\n",
    "from __future__ import print_function\n",
    "\n",
    "%matplotlib inline\n",
    "plt.rcParams['figure.figsize'] = (10.0, 8.0) # set default size of plots\n",
    "plt.rcParams['image.interpolation'] = 'nearest'\n",
    "plt.rcParams['image.cmap'] = 'gray'\n",
    "\n",
    "# for auto-reloading extenrnal modules\n",
    "# see http://stackoverflow.com/questions/1907993/autoreload-of-modules-in-ipython\n",
    "%load_ext autoreload\n",
    "%autoreload 2"
   ]
  },
  {
   "cell_type": "code",
   "execution_count": 154,
   "metadata": {},
   "outputs": [
    {
     "name": "stdout",
     "output_type": "stream",
     "text": [
      "Train data shape:  (49000, 3073)\n",
      "Train labels shape:  (49000,)\n",
      "Validation data shape:  (1000, 3073)\n",
      "Validation labels shape:  (1000,)\n",
      "Test data shape:  (1000, 3073)\n",
      "Test labels shape:  (1000,)\n",
      "dev data shape:  (500, 3073)\n",
      "dev labels shape:  (500,)\n"
     ]
    }
   ],
   "source": [
    "def get_CIFAR10_data(num_training=49000, num_validation=1000, num_test=1000, num_dev=500):\n",
    "    \"\"\"\n",
    "    Load the CIFAR-10 dataset from disk and perform preprocessing to prepare\n",
    "    it for the linear classifier. These are the same steps as we used for the\n",
    "    SVM, but condensed to a single function.  \n",
    "    \"\"\"\n",
    "    # Load the raw CIFAR-10 data\n",
    "    cifar10_dir = 'cs231n/datasets/cifar-10-batches-py'\n",
    "    X_train, y_train, X_test, y_test = load_CIFAR10(cifar10_dir)\n",
    "    \n",
    "    # subsample the data\n",
    "    mask = list(range(num_training, num_training + num_validation))\n",
    "    X_val = X_train[mask]\n",
    "    y_val = y_train[mask]\n",
    "    mask = list(range(num_training))\n",
    "    X_train = X_train[mask]\n",
    "    y_train = y_train[mask]\n",
    "    mask = list(range(num_test))\n",
    "    X_test = X_test[mask]\n",
    "    y_test = y_test[mask]\n",
    "    mask = np.random.choice(num_training, num_dev, replace=False)\n",
    "    X_dev = X_train[mask]\n",
    "    y_dev = y_train[mask]\n",
    "    \n",
    "    # Preprocessing: reshape the image data into rows\n",
    "    X_train = np.reshape(X_train, (X_train.shape[0], -1))\n",
    "    X_val = np.reshape(X_val, (X_val.shape[0], -1))\n",
    "    X_test = np.reshape(X_test, (X_test.shape[0], -1))\n",
    "    X_dev = np.reshape(X_dev, (X_dev.shape[0], -1))\n",
    "    \n",
    "    # Normalize the data: subtract the mean image\n",
    "    mean_image = np.mean(X_train, axis = 0)\n",
    "    X_train -= mean_image\n",
    "    X_val -= mean_image\n",
    "    X_test -= mean_image\n",
    "    X_dev -= mean_image\n",
    "    \n",
    "    # add bias dimension and transform into columns\n",
    "    X_train = np.hstack([X_train, np.ones((X_train.shape[0], 1))])\n",
    "    X_val = np.hstack([X_val, np.ones((X_val.shape[0], 1))])\n",
    "    X_test = np.hstack([X_test, np.ones((X_test.shape[0], 1))])\n",
    "    X_dev = np.hstack([X_dev, np.ones((X_dev.shape[0], 1))])\n",
    "    \n",
    "    return X_train, y_train, X_val, y_val, X_test, y_test, X_dev, y_dev\n",
    "\n",
    "\n",
    "# Invoke the above function to get our data.\n",
    "X_train, y_train, X_val, y_val, X_test, y_test, X_dev, y_dev = get_CIFAR10_data()\n",
    "print('Train data shape: ', X_train.shape)\n",
    "print('Train labels shape: ', y_train.shape)\n",
    "print('Validation data shape: ', X_val.shape)\n",
    "print('Validation labels shape: ', y_val.shape)\n",
    "print('Test data shape: ', X_test.shape)\n",
    "print('Test labels shape: ', y_test.shape)\n",
    "print('dev data shape: ', X_dev.shape)\n",
    "print('dev labels shape: ', y_dev.shape)"
   ]
  },
  {
   "cell_type": "markdown",
   "metadata": {},
   "source": [
    "## Softmax Classifier\n",
    "\n",
    "Your code for this section will all be written inside **cs231n/classifiers/softmax.py**. \n"
   ]
  },
  {
   "cell_type": "code",
   "execution_count": 3,
   "metadata": {},
   "outputs": [
    {
     "name": "stdout",
     "output_type": "stream",
     "text": [
      "loss: 2.374308\n",
      "sanity check: 2.302585\n"
     ]
    }
   ],
   "source": [
    "# First implement the naive softmax loss function with nested loops.\n",
    "# Open the file cs231n/classifiers/softmax.py and implement the\n",
    "# softmax_loss_naive function.\n",
    "\n",
    "from cs231n.classifiers.softmax import softmax_loss_naive\n",
    "import time\n",
    "\n",
    "# Generate a random softmax weight matrix and use it to compute the loss.\n",
    "W = np.random.randn(3073, 10) * 0.0001\n",
    "loss, grad = softmax_loss_naive(W, X_dev, y_dev, 0.0)\n",
    "\n",
    "# As a rough sanity check, our loss should be something close to -log(0.1).\n",
    "print('loss: %f' % loss)\n",
    "print('sanity check: %f' % (-np.log(0.1)))"
   ]
  },
  {
   "cell_type": "markdown",
   "metadata": {},
   "source": [
    "## Inline Question 1:\n",
    "Why do we expect our loss to be close to -log(0.1)? Explain briefly.**\n",
    "\n",
    "**Your answer:** cause this loss is loss over random sampling for 10 classes. Where 0.1 is probability to get proper class and -log(0.1) is cross-entropy between uniform distribution and function with peak in 1 point.\n"
   ]
  },
  {
   "cell_type": "code",
   "execution_count": 12,
   "metadata": {},
   "outputs": [
    {
     "name": "stdout",
     "output_type": "stream",
     "text": [
      "numerical: -0.034524 analytic: -0.034524, relative error: 2.710575e-07\n",
      "numerical: -1.609094 analytic: -1.609094, relative error: 5.780979e-10\n",
      "numerical: -2.537419 analytic: -2.537420, relative error: 1.048808e-08\n",
      "numerical: 0.275061 analytic: 0.275061, relative error: 5.395390e-08\n",
      "numerical: -3.979174 analytic: -3.979174, relative error: 1.405617e-08\n",
      "numerical: 6.922124 analytic: 6.922124, relative error: 1.402714e-08\n",
      "numerical: 3.691088 analytic: 3.691088, relative error: 1.804580e-08\n",
      "numerical: -0.597495 analytic: -0.597495, relative error: 4.705310e-08\n",
      "numerical: 0.995141 analytic: 0.995141, relative error: 6.701698e-08\n",
      "numerical: -1.046184 analytic: -1.046184, relative error: 2.987899e-08\n",
      "numerical: -1.606232 analytic: -1.606232, relative error: 5.146519e-08\n",
      "numerical: 1.074151 analytic: 1.074151, relative error: 3.399108e-08\n",
      "numerical: 0.849576 analytic: 0.849576, relative error: 2.692274e-08\n",
      "numerical: -0.256290 analytic: -0.256290, relative error: 7.931929e-08\n",
      "numerical: 0.235235 analytic: 0.235235, relative error: 1.741539e-08\n",
      "numerical: -1.136359 analytic: -1.136359, relative error: 1.597261e-08\n",
      "numerical: -1.199582 analytic: -1.199582, relative error: 9.092014e-09\n",
      "numerical: 4.352553 analytic: 4.352553, relative error: 7.883663e-09\n",
      "numerical: 3.834549 analytic: 3.834549, relative error: 1.889635e-08\n",
      "numerical: -2.680818 analytic: -2.680818, relative error: 1.048279e-08\n"
     ]
    }
   ],
   "source": [
    "# Complete the implementation of softmax_loss_naive and implement a (naive)\n",
    "# version of the gradient that uses nested loops.\n",
    "loss, grad = softmax_loss_naive(W, X_dev, y_dev, 0.0)\n",
    "\n",
    "# As we did for the SVM, use numeric gradient checking as a debugging tool.\n",
    "# The numeric gradient should be close to the analytic gradient.\n",
    "from cs231n.gradient_check import grad_check_sparse\n",
    "f = lambda w: softmax_loss_naive(w, X_dev, y_dev, 0.0)[0]\n",
    "grad_numerical = grad_check_sparse(f, W, grad, 10)\n",
    "\n",
    "# similar to SVM case, do another gradient check with regularization\n",
    "loss, grad = softmax_loss_naive(W, X_dev, y_dev, 5e1)\n",
    "f = lambda w: softmax_loss_naive(w, X_dev, y_dev, 5e1)[0]\n",
    "grad_numerical = grad_check_sparse(f, W, grad, 10)"
   ]
  },
  {
   "cell_type": "code",
   "execution_count": 167,
   "metadata": {},
   "outputs": [
    {
     "name": "stdout",
     "output_type": "stream",
     "text": [
      "naive loss: 2.388491e+00 computed in 0.119792s\n",
      "vectorized loss: 2.388491e+00 computed in 0.003636s\n",
      "Loss difference: 0.000000\n",
      "Gradient difference: 0.000000\n"
     ]
    }
   ],
   "source": [
    "# Now that we have a naive implementation of the softmax loss function and its gradient,\n",
    "# implement a vectorized version in softmax_loss_vectorized.\n",
    "# The two versions should compute the same results, but the vectorized version should be\n",
    "# much faster.\n",
    "tic = time.time()\n",
    "loss_naive, grad_naive = softmax_loss_naive(W, X_dev, y_dev, 0.000005)\n",
    "toc = time.time()\n",
    "print('naive loss: %e computed in %fs' % (loss_naive, toc - tic))\n",
    "\n",
    "from cs231n.classifiers.softmax import softmax_loss_vectorized\n",
    "tic = time.time()\n",
    "loss_vectorized, grad_vectorized = softmax_loss_vectorized(W, X_dev, y_dev, 0.000005)\n",
    "toc = time.time()\n",
    "print('vectorized loss: %e computed in %fs' % (loss_vectorized, toc - tic))\n",
    "\n",
    "# As we did for the SVM, we use the Frobenius norm to compare the two versions\n",
    "# of the gradient.\n",
    "grad_difference = np.linalg.norm(grad_naive - grad_vectorized, ord='fro')\n",
    "print('Loss difference: %f' % np.abs(loss_naive - loss_vectorized))\n",
    "print('Gradient difference: %f' % grad_difference)"
   ]
  },
  {
   "cell_type": "code",
   "execution_count": 174,
   "metadata": {},
   "outputs": [
    {
     "data": {
      "application/vnd.jupyter.widget-view+json": {
       "model_id": "8e690222dcda488d82b6e8f6dc4e1f79",
       "version_major": 2,
       "version_minor": 0
      },
      "text/plain": [
       "A Jupyter Widget"
      ]
     },
     "metadata": {},
     "output_type": "display_data"
    },
    {
     "name": "stdout",
     "output_type": "stream",
     "text": [
      "\n",
      "lr 1.000000e-07 reg 2.500000e+04 train accuracy: 0.332898 val accuracy: 0.349000\n",
      "lr 1.000000e-07 reg 2.750000e+04 train accuracy: 0.330122 val accuracy: 0.340000\n",
      "lr 1.000000e-07 reg 3.000000e+04 train accuracy: 0.331673 val accuracy: 0.350000\n",
      "lr 1.000000e-07 reg 3.250000e+04 train accuracy: 0.318551 val accuracy: 0.329000\n",
      "lr 1.000000e-07 reg 3.500000e+04 train accuracy: 0.315816 val accuracy: 0.338000\n",
      "lr 1.000000e-07 reg 3.750000e+04 train accuracy: 0.314837 val accuracy: 0.332000\n",
      "lr 1.000000e-07 reg 4.000000e+04 train accuracy: 0.317510 val accuracy: 0.335000\n",
      "lr 1.000000e-07 reg 4.250000e+04 train accuracy: 0.313408 val accuracy: 0.334000\n",
      "lr 1.000000e-07 reg 4.500000e+04 train accuracy: 0.312000 val accuracy: 0.330000\n",
      "lr 1.000000e-07 reg 4.750000e+04 train accuracy: 0.309551 val accuracy: 0.324000\n",
      "lr 1.500000e-07 reg 2.500000e+04 train accuracy: 0.332959 val accuracy: 0.350000\n",
      "lr 1.500000e-07 reg 2.750000e+04 train accuracy: 0.329898 val accuracy: 0.341000\n",
      "lr 1.500000e-07 reg 3.000000e+04 train accuracy: 0.327429 val accuracy: 0.349000\n",
      "lr 1.500000e-07 reg 3.250000e+04 train accuracy: 0.323367 val accuracy: 0.337000\n",
      "lr 1.500000e-07 reg 3.500000e+04 train accuracy: 0.323327 val accuracy: 0.338000\n",
      "lr 1.500000e-07 reg 3.750000e+04 train accuracy: 0.314102 val accuracy: 0.328000\n",
      "lr 1.500000e-07 reg 4.000000e+04 train accuracy: 0.310898 val accuracy: 0.328000\n",
      "lr 1.500000e-07 reg 4.250000e+04 train accuracy: 0.316367 val accuracy: 0.321000\n",
      "lr 1.500000e-07 reg 4.500000e+04 train accuracy: 0.318959 val accuracy: 0.328000\n",
      "lr 1.500000e-07 reg 4.750000e+04 train accuracy: 0.305816 val accuracy: 0.324000\n",
      "lr 2.000000e-07 reg 2.500000e+04 train accuracy: 0.331694 val accuracy: 0.345000\n",
      "lr 2.000000e-07 reg 2.750000e+04 train accuracy: 0.328571 val accuracy: 0.349000\n",
      "lr 2.000000e-07 reg 3.000000e+04 train accuracy: 0.320020 val accuracy: 0.332000\n",
      "lr 2.000000e-07 reg 3.250000e+04 train accuracy: 0.321449 val accuracy: 0.341000\n",
      "lr 2.000000e-07 reg 3.500000e+04 train accuracy: 0.324061 val accuracy: 0.345000\n",
      "lr 2.000000e-07 reg 3.750000e+04 train accuracy: 0.321367 val accuracy: 0.330000\n",
      "lr 2.000000e-07 reg 4.000000e+04 train accuracy: 0.319755 val accuracy: 0.326000\n",
      "lr 2.000000e-07 reg 4.250000e+04 train accuracy: 0.317673 val accuracy: 0.343000\n",
      "lr 2.000000e-07 reg 4.500000e+04 train accuracy: 0.310653 val accuracy: 0.330000\n",
      "lr 2.000000e-07 reg 4.750000e+04 train accuracy: 0.309571 val accuracy: 0.322000\n",
      "lr 2.500000e-07 reg 2.500000e+04 train accuracy: 0.323837 val accuracy: 0.349000\n",
      "lr 2.500000e-07 reg 2.750000e+04 train accuracy: 0.318592 val accuracy: 0.332000\n",
      "lr 2.500000e-07 reg 3.000000e+04 train accuracy: 0.324245 val accuracy: 0.337000\n",
      "lr 2.500000e-07 reg 3.250000e+04 train accuracy: 0.314531 val accuracy: 0.332000\n",
      "lr 2.500000e-07 reg 3.500000e+04 train accuracy: 0.318286 val accuracy: 0.333000\n",
      "lr 2.500000e-07 reg 3.750000e+04 train accuracy: 0.316857 val accuracy: 0.336000\n",
      "lr 2.500000e-07 reg 4.000000e+04 train accuracy: 0.307694 val accuracy: 0.333000\n",
      "lr 2.500000e-07 reg 4.250000e+04 train accuracy: 0.316898 val accuracy: 0.326000\n",
      "lr 2.500000e-07 reg 4.500000e+04 train accuracy: 0.304306 val accuracy: 0.330000\n",
      "lr 2.500000e-07 reg 4.750000e+04 train accuracy: 0.304286 val accuracy: 0.321000\n",
      "lr 3.000000e-07 reg 2.500000e+04 train accuracy: 0.325939 val accuracy: 0.338000\n",
      "lr 3.000000e-07 reg 2.750000e+04 train accuracy: 0.320694 val accuracy: 0.339000\n",
      "lr 3.000000e-07 reg 3.000000e+04 train accuracy: 0.317551 val accuracy: 0.330000\n",
      "lr 3.000000e-07 reg 3.250000e+04 train accuracy: 0.318469 val accuracy: 0.332000\n",
      "lr 3.000000e-07 reg 3.500000e+04 train accuracy: 0.315367 val accuracy: 0.329000\n",
      "lr 3.000000e-07 reg 3.750000e+04 train accuracy: 0.322265 val accuracy: 0.336000\n",
      "lr 3.000000e-07 reg 4.000000e+04 train accuracy: 0.298959 val accuracy: 0.318000\n",
      "lr 3.000000e-07 reg 4.250000e+04 train accuracy: 0.303755 val accuracy: 0.319000\n",
      "lr 3.000000e-07 reg 4.500000e+04 train accuracy: 0.312184 val accuracy: 0.328000\n",
      "lr 3.000000e-07 reg 4.750000e+04 train accuracy: 0.298980 val accuracy: 0.319000\n",
      "lr 3.500000e-07 reg 2.500000e+04 train accuracy: 0.337327 val accuracy: 0.341000\n",
      "lr 3.500000e-07 reg 2.750000e+04 train accuracy: 0.319184 val accuracy: 0.344000\n",
      "lr 3.500000e-07 reg 3.000000e+04 train accuracy: 0.315673 val accuracy: 0.327000\n",
      "lr 3.500000e-07 reg 3.250000e+04 train accuracy: 0.323163 val accuracy: 0.345000\n",
      "lr 3.500000e-07 reg 3.500000e+04 train accuracy: 0.312755 val accuracy: 0.329000\n",
      "lr 3.500000e-07 reg 3.750000e+04 train accuracy: 0.316714 val accuracy: 0.317000\n",
      "lr 3.500000e-07 reg 4.000000e+04 train accuracy: 0.317265 val accuracy: 0.329000\n",
      "lr 3.500000e-07 reg 4.250000e+04 train accuracy: 0.300959 val accuracy: 0.318000\n",
      "lr 3.500000e-07 reg 4.500000e+04 train accuracy: 0.308857 val accuracy: 0.324000\n",
      "lr 3.500000e-07 reg 4.750000e+04 train accuracy: 0.294837 val accuracy: 0.305000\n",
      "lr 4.000000e-07 reg 2.500000e+04 train accuracy: 0.333061 val accuracy: 0.346000\n",
      "lr 4.000000e-07 reg 2.750000e+04 train accuracy: 0.327735 val accuracy: 0.336000\n",
      "lr 4.000000e-07 reg 3.000000e+04 train accuracy: 0.310612 val accuracy: 0.318000\n",
      "lr 4.000000e-07 reg 3.250000e+04 train accuracy: 0.322469 val accuracy: 0.347000\n",
      "lr 4.000000e-07 reg 3.500000e+04 train accuracy: 0.319612 val accuracy: 0.335000\n",
      "lr 4.000000e-07 reg 3.750000e+04 train accuracy: 0.319735 val accuracy: 0.325000\n",
      "lr 4.000000e-07 reg 4.000000e+04 train accuracy: 0.320163 val accuracy: 0.327000\n",
      "lr 4.000000e-07 reg 4.250000e+04 train accuracy: 0.313245 val accuracy: 0.326000\n",
      "lr 4.000000e-07 reg 4.500000e+04 train accuracy: 0.299592 val accuracy: 0.307000\n",
      "lr 4.000000e-07 reg 4.750000e+04 train accuracy: 0.294061 val accuracy: 0.304000\n",
      "lr 4.500000e-07 reg 2.500000e+04 train accuracy: 0.325735 val accuracy: 0.339000\n",
      "lr 4.500000e-07 reg 2.750000e+04 train accuracy: 0.319041 val accuracy: 0.335000\n",
      "lr 4.500000e-07 reg 3.000000e+04 train accuracy: 0.313449 val accuracy: 0.329000\n",
      "lr 4.500000e-07 reg 3.250000e+04 train accuracy: 0.305816 val accuracy: 0.311000\n",
      "lr 4.500000e-07 reg 3.500000e+04 train accuracy: 0.317327 val accuracy: 0.331000\n",
      "lr 4.500000e-07 reg 3.750000e+04 train accuracy: 0.307224 val accuracy: 0.322000\n",
      "lr 4.500000e-07 reg 4.000000e+04 train accuracy: 0.313653 val accuracy: 0.331000\n",
      "lr 4.500000e-07 reg 4.250000e+04 train accuracy: 0.312143 val accuracy: 0.323000\n",
      "lr 4.500000e-07 reg 4.500000e+04 train accuracy: 0.304673 val accuracy: 0.318000\n",
      "lr 4.500000e-07 reg 4.750000e+04 train accuracy: 0.308265 val accuracy: 0.324000\n",
      "best validation accuracy achieved during cross-validation: 0.350000\n"
     ]
    }
   ],
   "source": [
    "# Use the validation set to tune hyperparameters (regularization strength and\n",
    "# learning rate). You should experiment with different ranges for the learning\n",
    "# rates and regularization strengths; if you are careful you should be able to\n",
    "# get a classification accuracy of over 0.35 on the validation set.\n",
    "from cs231n.classifiers import Softmax\n",
    "results = {}\n",
    "best_val = -1\n",
    "best_softmax = None\n",
    "learning_rates = [1e-7, 5e-7]\n",
    "regularization_strengths = [2.5e4, 5e4]\n",
    "\n",
    "from itertools import product\n",
    "from tqdm import tqdm_notebook\n",
    "\n",
    "learning_rates = np.arange(*learning_rates, 5e-8)\n",
    "regularization_strengths = np.arange(*regularization_strengths, 2.5e3)\n",
    "\n",
    "for cur_lr, cur_reg in tqdm_notebook(list(product(learning_rates, regularization_strengths))):\n",
    "        cur_svm = Softmax()\n",
    "        cur_svm.train(X_train, y_train, learning_rate=cur_lr, reg=cur_reg,\n",
    "                      num_iters=1500)\n",
    "        train_pred = cur_svm.predict(X_train)\n",
    "        test_pred = cur_svm.predict(X_val)\n",
    "        \n",
    "        test_acc = np.mean(y_val == test_pred)\n",
    "        train_acc = np.mean(y_train == train_pred)\n",
    "        \n",
    "        results[(cur_lr, cur_reg)] = (train_acc, test_acc)\n",
    "        \n",
    "        if test_acc > best_val:\n",
    "            best_val = test_acc\n",
    "            best_svm = cur_svm\n",
    "\n",
    "    \n",
    "# Print out results.\n",
    "for lr, reg in sorted(results):\n",
    "    train_accuracy, val_accuracy = results[(lr, reg)]\n",
    "    print('lr %e reg %e train accuracy: %f val accuracy: %f' % (\n",
    "                lr, reg, train_accuracy, val_accuracy))\n",
    "    \n",
    "print('best validation accuracy achieved during cross-validation: %f' % best_val)"
   ]
  },
  {
   "cell_type": "code",
   "execution_count": 176,
   "metadata": {},
   "outputs": [
    {
     "name": "stdout",
     "output_type": "stream",
     "text": [
      "softmax on raw pixels final test set accuracy: 0.342000\n"
     ]
    }
   ],
   "source": [
    "# evaluate on test set\n",
    "# Evaluate the best softmax on test set\n",
    "y_test_pred = best_svm.predict(X_test)\n",
    "test_accuracy = np.mean(y_test == y_test_pred)\n",
    "print('softmax on raw pixels final test set accuracy: %f' % (test_accuracy, ))"
   ]
  },
  {
   "cell_type": "code",
   "execution_count": 177,
   "metadata": {},
   "outputs": [
    {
     "data": {
      "image/png": "[encoded data removed]",
      "text/plain": [
       "<matplotlib.figure.Figure at 0x109252550>"
      ]
     },
     "metadata": {},
     "output_type": "display_data"
    }
   ],
   "source": [
    "# Visualize the learned weights for each class\n",
    "w = best_svm.W[:-1,:] # strip out the bias\n",
    "w = w.reshape(32, 32, 3, 10)\n",
    "\n",
    "w_min, w_max = np.min(w), np.max(w)\n",
    "\n",
    "classes = ['plane', 'car', 'bird', 'cat', 'deer', 'dog', 'frog', 'horse', 'ship', 'truck']\n",
    "for i in range(10):\n",
    "    plt.subplot(2, 5, i + 1)\n",
    "    \n",
    "    # Rescale the weights to be between 0 and 255\n",
    "    wimg = 255.0 * (w[:, :, :, i].squeeze() - w_min) / (w_max - w_min)\n",
    "    plt.imshow(wimg.astype('uint8'))\n",
    "    plt.axis('off')\n",
    "    plt.title(classes[i])"
   ]
  }
 ],
 "metadata": {
  "kernelspec": {
   "display_name": "Python 3",
   "language": "python",
   "name": "python3"
  },
  "language_info": {
   "codemirror_mode": {
    "name": "ipython",
    "version": 3
   },
   "file_extension": ".py",
   "mimetype": "text/x-python",
   "name": "python",
   "nbconvert_exporter": "python",
   "pygments_lexer": "ipython3",
   "version": "3.6.3"
  }
 },
 "nbformat": 4,
 "nbformat_minor": 1
}
